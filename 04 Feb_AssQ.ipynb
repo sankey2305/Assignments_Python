{
 "cells": [
  {
   "cell_type": "markdown",
   "id": "d7d27edd-5446-417e-92f2-84a826d510e5",
   "metadata": {},
   "source": [
    "## Q1. Create a python program to sort the given list of tuples based on integer value using a lambda function. \n",
    "[('Sachin Tendulkar', 34357), ('Ricky Ponting', 27483), ('Jack Kallis', 25534), ('Virat Kohli', 24936)]"
   ]
  },
  {
   "cell_type": "code",
   "execution_count": 1,
   "id": "fd543da2-45ba-4b3e-800d-59a570482e6e",
   "metadata": {},
   "outputs": [],
   "source": [
    "t = [('Sachin Tendulkar', 34357), ('Ricky Ponting', 27483), ('Jack Kallis', 25534), ('Virat Kohli', 24936)]"
   ]
  },
  {
   "cell_type": "code",
   "execution_count": 2,
   "id": "3d867436-07b7-4730-9de4-a26d1f19ab11",
   "metadata": {},
   "outputs": [
    {
     "data": {
      "text/plain": [
       "[('Virat Kohli', 24936),\n",
       " ('Jack Kallis', 25534),\n",
       " ('Ricky Ponting', 27483),\n",
       " ('Sachin Tendulkar', 34357)]"
      ]
     },
     "execution_count": 2,
     "metadata": {},
     "output_type": "execute_result"
    }
   ],
   "source": [
    "t.sort(key=lambda i: i[1])\n",
    "t"
   ]
  },
  {
   "cell_type": "markdown",
   "id": "e362360b-496a-4218-87f5-1a42fd38806b",
   "metadata": {},
   "source": [
    "-------------------------------------------------------------------------------------"
   ]
  },
  {
   "cell_type": "markdown",
   "id": "73f0436f-25b5-4730-947e-09b416ead911",
   "metadata": {},
   "source": [
    "## Q2. Write a Python Program to find the squares of all the numbers in the given list of integers using lambda and map functions.\n",
    "[1, 2, 3, 4, 5, 6, 7, 8, 9, 10]"
   ]
  },
  {
   "cell_type": "code",
   "execution_count": 3,
   "id": "9c82b9a9-0f50-407a-bac6-6ed934f922e6",
   "metadata": {},
   "outputs": [],
   "source": [
    "l = [1, 2, 3, 4, 5, 6, 7, 8, 9, 10]"
   ]
  },
  {
   "cell_type": "code",
   "execution_count": 4,
   "id": "eaf5cd4b-82e6-4e94-bd08-cad045f529a9",
   "metadata": {},
   "outputs": [],
   "source": [
    "square_l = list(map(lambda i: i**2,l))"
   ]
  },
  {
   "cell_type": "code",
   "execution_count": 5,
   "id": "573d51b7-042c-4553-8628-1ceac3e85a01",
   "metadata": {},
   "outputs": [
    {
     "data": {
      "text/plain": [
       "[1, 4, 9, 16, 25, 36, 49, 64, 81, 100]"
      ]
     },
     "execution_count": 5,
     "metadata": {},
     "output_type": "execute_result"
    }
   ],
   "source": [
    "square_l"
   ]
  },
  {
   "cell_type": "markdown",
   "id": "94cb7507-c807-43a9-b481-6388dd161cd1",
   "metadata": {},
   "source": [
    "-------------------------------------------------------------------------------------"
   ]
  },
  {
   "cell_type": "markdown",
   "id": "3431849e-3fe2-4a10-a6b2-9f46154383bb",
   "metadata": {},
   "source": [
    "## Q3. Write a python program to convert the given list of integers into a tuple of strings. Use map and lambda functions                                                                                             \n",
    "\n",
    "Given String: [1, 2, 3, 4, 5, 6, 7, 8, 9, 10]                                                           \n",
    "\n",
    "Expected output: ('1', '2', '3', '4', '5', '6', '7', '8', '9', '10')"
   ]
  },
  {
   "cell_type": "code",
   "execution_count": 6,
   "id": "90ba4d44-9822-47f3-bd87-9f6683064595",
   "metadata": {},
   "outputs": [],
   "source": [
    "list_int = [1, 2, 3, 4, 5, 6, 7, 8, 9, 10] "
   ]
  },
  {
   "cell_type": "code",
   "execution_count": 7,
   "id": "3262b5a5-49d0-43a8-b8db-67392eabdd21",
   "metadata": {},
   "outputs": [
    {
     "data": {
      "text/plain": [
       "('1', '2', '3', '4', '5', '6', '7', '8', '9', '10')"
      ]
     },
     "execution_count": 7,
     "metadata": {},
     "output_type": "execute_result"
    }
   ],
   "source": [
    "tuple_str = tuple(map(lambda i : str(i),list_int))\n",
    "tuple_str"
   ]
  },
  {
   "cell_type": "markdown",
   "id": "2210762f-4288-420d-9b39-90ce53ae8d74",
   "metadata": {},
   "source": [
    "-------------------------------------------------------------------------------------"
   ]
  },
  {
   "cell_type": "markdown",
   "id": "6d9d8f19-99cb-499f-819f-35af5edbf91a",
   "metadata": {},
   "source": [
    "## Q4.  Write a python program using reduce function to compute the product of a list containing numbers from 1 to 25."
   ]
  },
  {
   "cell_type": "code",
   "execution_count": 8,
   "id": "e820df2a-e0a0-4674-b26a-903883f30a92",
   "metadata": {},
   "outputs": [],
   "source": [
    "from functools import reduce"
   ]
  },
  {
   "cell_type": "code",
   "execution_count": 9,
   "id": "f7f031f1-944f-4910-a1b0-2c280f818313",
   "metadata": {},
   "outputs": [
    {
     "data": {
      "text/plain": [
       "15511210043330985984000000"
      ]
     },
     "execution_count": 9,
     "metadata": {},
     "output_type": "execute_result"
    }
   ],
   "source": [
    "prod = reduce(lambda a,b:a*b,list(range(1,26)))\n",
    "prod"
   ]
  },
  {
   "cell_type": "markdown",
   "id": "6f46c4f5-3c4a-4c9c-a2ce-8ac532e080b3",
   "metadata": {},
   "source": [
    "-------------------------------------------------------------------------------------"
   ]
  },
  {
   "cell_type": "markdown",
   "id": "b9c01120-58aa-49d6-9bc1-985de3e2c65e",
   "metadata": {},
   "source": [
    "## Q5. Write a python program to filter the numbers in a given list that are divisible by 2 and 3 using the filter function.\n",
    "\n",
    "\n",
    "[2, 3, 6, 9, 27, 60, 90, 120, 55, 46]"
   ]
  },
  {
   "cell_type": "code",
   "execution_count": 10,
   "id": "65a237e3-1275-4b6f-ae1f-ddd881570af4",
   "metadata": {},
   "outputs": [],
   "source": [
    "l = [2, 3, 6, 9, 27, 60, 90, 120, 55, 46]"
   ]
  },
  {
   "cell_type": "code",
   "execution_count": 11,
   "id": "41b01812-0886-41a7-b562-4758254733f8",
   "metadata": {},
   "outputs": [
    {
     "data": {
      "text/plain": [
       "[6, 60, 90, 120]"
      ]
     },
     "execution_count": 11,
     "metadata": {},
     "output_type": "execute_result"
    }
   ],
   "source": [
    "filter_list = list(filter(lambda x: x if x % 2 == 0 and x % 3 == 0 else None ,l))\n",
    "filter_list"
   ]
  },
  {
   "cell_type": "markdown",
   "id": "d42f973f-7373-4d3e-8f75-258e45e4d32a",
   "metadata": {},
   "source": [
    "-------------------------------------------------------------------------------------"
   ]
  },
  {
   "cell_type": "markdown",
   "id": "d3a96b9b-8e50-4225-a794-9863d42fad5c",
   "metadata": {},
   "source": [
    "## Q6. Write a python program to find palindromes in the given list of strings using lambda and filter function.\n",
    "['python', 'php', 'aba', 'radar', 'level']"
   ]
  },
  {
   "cell_type": "code",
   "execution_count": 12,
   "id": "14fc80fe-1519-4338-bebf-0b3ca4114293",
   "metadata": {},
   "outputs": [],
   "source": [
    "string_list = ['python', 'php', 'aba', 'radar', 'level']"
   ]
  },
  {
   "cell_type": "code",
   "execution_count": 13,
   "id": "07664096-58a8-4089-836c-0e9bdb6e8e46",
   "metadata": {},
   "outputs": [
    {
     "data": {
      "text/plain": [
       "['php', 'aba', 'radar', 'level']"
      ]
     },
     "execution_count": 13,
     "metadata": {},
     "output_type": "execute_result"
    }
   ],
   "source": [
    "palindrome_list = list(filter(lambda x: x if x == x[::-1] else None,string_list))\n",
    "palindrome_list"
   ]
  },
  {
   "cell_type": "code",
   "execution_count": null,
   "id": "82c78a79-e90d-45db-b992-f3e49fbd7ab8",
   "metadata": {},
   "outputs": [],
   "source": []
  }
 ],
 "metadata": {
  "kernelspec": {
   "display_name": "Python 3 (ipykernel)",
   "language": "python",
   "name": "python3"
  },
  "language_info": {
   "codemirror_mode": {
    "name": "ipython",
    "version": 3
   },
   "file_extension": ".py",
   "mimetype": "text/x-python",
   "name": "python",
   "nbconvert_exporter": "python",
   "pygments_lexer": "ipython3",
   "version": "3.10.8"
  }
 },
 "nbformat": 4,
 "nbformat_minor": 5
}
