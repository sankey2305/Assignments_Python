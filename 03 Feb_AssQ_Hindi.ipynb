{
 "cells": [
  {
   "cell_type": "markdown",
   "id": "b0dead7c-865c-406a-b1ce-3c961088fb7f",
   "metadata": {},
   "source": [
    "## **Q1. Which keyword is used to create a function? Create a function to return a list of odd numbers in the range of 1 to 25**"
   ]
  },
  {
   "cell_type": "markdown",
   "id": "033ea16a-0b9b-4eb6-b940-09a27cc3807c",
   "metadata": {},
   "source": [
    "Ans: **def** keyword is use to create function."
   ]
  },
  {
   "cell_type": "code",
   "execution_count": 1,
   "id": "6eb1655c-eff3-4e9c-ac03-d6bfeb712dbd",
   "metadata": {},
   "outputs": [],
   "source": [
    "def odd_number():\n",
    "    result = []\n",
    "    for i in range(1,26):\n",
    "        if i%2 != 0:\n",
    "            result.append(i)\n",
    "    return result"
   ]
  },
  {
   "cell_type": "code",
   "execution_count": 2,
   "id": "2fd3cfbf-abba-4be0-875f-10eebe34e0f0",
   "metadata": {},
   "outputs": [
    {
     "data": {
      "text/plain": [
       "[1, 3, 5, 7, 9, 11, 13, 15, 17, 19, 21, 23, 25]"
      ]
     },
     "execution_count": 2,
     "metadata": {},
     "output_type": "execute_result"
    }
   ],
   "source": [
    "odd_number()"
   ]
  },
  {
   "cell_type": "markdown",
   "id": "a75ec487-8cec-4b57-bdd7-8f60c573b52e",
   "metadata": {},
   "source": [
    "------------------------------------------------------------------------------------"
   ]
  },
  {
   "cell_type": "markdown",
   "id": "d54d780b-1b92-4980-b3c0-892626594e97",
   "metadata": {},
   "source": [
    "## Q2. Why *args and **kwargs is used in some functions? Create a function each for *args and **kwargs to demonstrate their use.**"
   ]
  },
  {
   "cell_type": "markdown",
   "id": "6f0605f9-e0d8-460f-bc2c-124a7cde82a5",
   "metadata": {},
   "source": [
    "### *args:"
   ]
  },
  {
   "cell_type": "markdown",
   "id": "8731c33d-27f5-464c-b833-79f66cfbd575",
   "metadata": {},
   "source": [
    "*args is used to pass a variable number of non-keyword arguments to a function."
   ]
  },
  {
   "cell_type": "markdown",
   "id": "823d7d2f-5e7b-4a4b-94fb-89a86cbdfad0",
   "metadata": {},
   "source": [
    "### example:"
   ]
  },
  {
   "cell_type": "code",
   "execution_count": 3,
   "id": "9c14df20-5fbc-43c9-a26d-a589ff82fbb5",
   "metadata": {},
   "outputs": [],
   "source": [
    "def calculate_sum(*args):\n",
    "    total = 0\n",
    "    for num in args:\n",
    "        total += num\n",
    "    return total"
   ]
  },
  {
   "cell_type": "code",
   "execution_count": 4,
   "id": "54b08d1c-9a74-4c0b-a7c3-ef558556d71d",
   "metadata": {},
   "outputs": [
    {
     "name": "stdout",
     "output_type": "stream",
     "text": [
      "15\n"
     ]
    }
   ],
   "source": [
    "print(calculate_sum(1, 2, 3, 4, 5))"
   ]
  },
  {
   "cell_type": "markdown",
   "id": "b723175f-c5fc-46b3-8fca-1bf1df1888ce",
   "metadata": {},
   "source": [
    "### **kwargs"
   ]
  },
  {
   "cell_type": "markdown",
   "id": "545e71ad-6c8d-4f32-86e6-a86cc98acc5b",
   "metadata": {},
   "source": [
    "**kwargs is used to pass a variable number of keyword arguments to a function."
   ]
  },
  {
   "cell_type": "markdown",
   "id": "19ac3fc4-a39b-4153-8666-ce9c3ee4952e",
   "metadata": {},
   "source": [
    "### example:"
   ]
  },
  {
   "cell_type": "code",
   "execution_count": 5,
   "id": "47f79739-66af-45eb-85b7-e8bf871f7290",
   "metadata": {},
   "outputs": [],
   "source": [
    "def print_kwargs(**kwargs):\n",
    "    for key, value in kwargs.items():\n",
    "        print(f\"{key}: {value}\")\n"
   ]
  },
  {
   "cell_type": "code",
   "execution_count": 6,
   "id": "8ca952c0-1a2f-4c92-99fd-d19e62fa8af2",
   "metadata": {},
   "outputs": [
    {
     "name": "stdout",
     "output_type": "stream",
     "text": [
      "name: Sudhanshu\n",
      "occupation: Mentor\n",
      "city: UP\n"
     ]
    }
   ],
   "source": [
    "print_kwargs(name=\"Sudhanshu\", occupation=\"Mentor\", city=\"UP\")"
   ]
  },
  {
   "cell_type": "markdown",
   "id": "3dcdbb6d-8669-42e9-a0ac-8d9907ed5702",
   "metadata": {},
   "source": [
    "------------------------------------------------------------------------------------"
   ]
  },
  {
   "cell_type": "markdown",
   "id": "1af3c00c-85b5-45d4-8671-da640e612e62",
   "metadata": {},
   "source": [
    "## Q3.  What is an iterator in python? Name the method used to initialise the iterator object and the method used for iteration. Use these methods to print the first five elements of the given list [2, 4, 6, 8, 10, 12, 14, 16, 18, 20]"
   ]
  },
  {
   "cell_type": "markdown",
   "id": "6ba45205-37af-4935-84e6-7248ba446694",
   "metadata": {},
   "source": [
    "->An iterator is an object that allows us to iterate over a collection of items, one item at a time. Iterators are used to traverse sequences such as lists, tuples, and dictionaries."
   ]
  },
  {
   "cell_type": "markdown",
   "id": "9d461e59-6ced-42fa-8385-10b3132db4fc",
   "metadata": {},
   "source": [
    "->The iter() method is used to initialize an iterator object in Python."
   ]
  },
  {
   "cell_type": "markdown",
   "id": "5fd1fe2f-2b4b-432b-86bc-25f4b8318140",
   "metadata": {},
   "source": [
    "->The next() method is used to iterate over the elements of an iterator object."
   ]
  },
  {
   "cell_type": "code",
   "execution_count": 7,
   "id": "6ecbd763-1c35-4cfc-99a2-1e08655863c6",
   "metadata": {},
   "outputs": [
    {
     "name": "stdout",
     "output_type": "stream",
     "text": [
      "2\n",
      "4\n",
      "6\n",
      "8\n",
      "10\n"
     ]
    }
   ],
   "source": [
    "l = [2,4,6,8,10,12,14,16,18,20]\n",
    "iter_l = iter(l)\n",
    "\n",
    "for i in range(5):\n",
    "    print(next(iter_l))"
   ]
  },
  {
   "cell_type": "markdown",
   "id": "fd524454-2c15-4a72-9562-5fe45ec17ffc",
   "metadata": {},
   "source": [
    "------------------------------------------------------------------------------------"
   ]
  },
  {
   "cell_type": "markdown",
   "id": "f3e555ed-01cd-4893-aa82-6ccf25ed4733",
   "metadata": {},
   "source": [
    "## Q4.  What is a generator function in python? Why yield keyword is used? Give an example of a generator function."
   ]
  },
  {
   "cell_type": "markdown",
   "id": "82f887d6-fedf-4605-baad-83c211b77c9c",
   "metadata": {},
   "source": [
    "A generator function is a special type of function that returns an iterator. Unlike regular functions that return a value and then exit, a generator function can pause its execution at any point and then resume it later. This is useful when we need to generate a sequence of values on-the-fly without storing them in memory."
   ]
  },
  {
   "cell_type": "markdown",
   "id": "8f43e5a5-9dbd-4683-a0f6-364c866e1028",
   "metadata": {},
   "source": [
    "The yield keyword is used in a generator function to return a value and pause the function's execution until the next value is requested."
   ]
  },
  {
   "cell_type": "markdown",
   "id": "f13d23a6-3dfc-4e2f-beec-be9899f8216e",
   "metadata": {},
   "source": [
    "### example:"
   ]
  },
  {
   "cell_type": "code",
   "execution_count": 8,
   "id": "4fd22382-a2d9-47f5-a1fe-1d0c4a20d2a8",
   "metadata": {},
   "outputs": [],
   "source": [
    "def generate_fiboseries(n):\n",
    "    a = 0\n",
    "    b = 1\n",
    "    for i in range(n):\n",
    "        yield a\n",
    "        c = a + b\n",
    "        a = b\n",
    "        b = c"
   ]
  },
  {
   "cell_type": "code",
   "execution_count": 9,
   "id": "b4ebe5c7-bcfc-4a45-8631-b35877449bfb",
   "metadata": {},
   "outputs": [
    {
     "data": {
      "text/plain": [
       "<generator object generate_fiboseries at 0x7feaf4f3da10>"
      ]
     },
     "execution_count": 9,
     "metadata": {},
     "output_type": "execute_result"
    }
   ],
   "source": [
    "generate_fiboseries(5)"
   ]
  },
  {
   "cell_type": "code",
   "execution_count": 10,
   "id": "389785cb-ffca-4cba-93e1-bd7bc0c1f1d6",
   "metadata": {},
   "outputs": [
    {
     "name": "stdout",
     "output_type": "stream",
     "text": [
      "0\n",
      "1\n",
      "1\n",
      "2\n",
      "3\n",
      "5\n",
      "8\n",
      "13\n",
      "21\n",
      "34\n"
     ]
    }
   ],
   "source": [
    "for i in generate_fiboseries(10):\n",
    "    print(i)"
   ]
  },
  {
   "cell_type": "markdown",
   "id": "b1d9c34d-2e15-46b0-9e28-b69a71f42acd",
   "metadata": {},
   "source": [
    "-------------------------------------------------------------------------------------"
   ]
  },
  {
   "cell_type": "markdown",
   "id": "6e58a383-5b3a-4d3e-9ebc-4d63409d974a",
   "metadata": {},
   "source": [
    "## Q5. Create a generator function for prime numbers less than 1000. Use the next() method to print the first 20 prime numbers."
   ]
  },
  {
   "cell_type": "code",
   "execution_count": 11,
   "id": "816c773c-3688-4fa7-a99d-12639a5dcf04",
   "metadata": {},
   "outputs": [],
   "source": [
    "import math\n",
    "def generate_prime_num():\n",
    "    n=2\n",
    "    while n < 1000:\n",
    "        is_prime = True\n",
    "        for i in range(2,int(math.sqrt(n))+1):\n",
    "            if n % i == 0:\n",
    "                is_prime = False\n",
    "                break\n",
    "        if is_prime:\n",
    "            yield n\n",
    "        n+=1\n",
    "        \n",
    "prime_num = generate_prime_num()"
   ]
  },
  {
   "cell_type": "code",
   "execution_count": 12,
   "id": "bffc2b54-dcc7-41af-b2fd-082148f90526",
   "metadata": {},
   "outputs": [
    {
     "name": "stdout",
     "output_type": "stream",
     "text": [
      "2\n",
      "3\n",
      "5\n",
      "7\n",
      "11\n",
      "13\n",
      "17\n",
      "19\n",
      "23\n",
      "29\n",
      "31\n",
      "37\n",
      "41\n",
      "43\n",
      "47\n",
      "53\n",
      "59\n",
      "61\n",
      "67\n",
      "71\n"
     ]
    }
   ],
   "source": [
    "for i in range(20):\n",
    "    print(next(prime_num))"
   ]
  },
  {
   "cell_type": "markdown",
   "id": "54de75db-6042-4ebc-b156-156cd4736f10",
   "metadata": {},
   "source": [
    "-------------------------------------------------------------------------------------"
   ]
  },
  {
   "cell_type": "markdown",
   "id": "a45ce37f-2c0d-4f4c-b8aa-10509d5274e9",
   "metadata": {},
   "source": [
    "## Q6. Write a python program to print the first 10 Fibonacci numbers using a while loop."
   ]
  },
  {
   "cell_type": "code",
   "execution_count": 13,
   "id": "b3fc8357-9308-4f44-8b31-d1b1ec5cac87",
   "metadata": {},
   "outputs": [],
   "source": [
    "def fibonacci_number(n):\n",
    "    a = 0\n",
    "    b = 1\n",
    "    number = 0\n",
    "    while number < n:\n",
    "        print(a)\n",
    "        c = a+b\n",
    "        a = b\n",
    "        b = c\n",
    "        number = number+1"
   ]
  },
  {
   "cell_type": "code",
   "execution_count": 14,
   "id": "cb00896d-0c0c-4b58-9dbf-c4f7e6cc2202",
   "metadata": {},
   "outputs": [
    {
     "name": "stdout",
     "output_type": "stream",
     "text": [
      "0\n",
      "1\n",
      "1\n",
      "2\n",
      "3\n",
      "5\n",
      "8\n",
      "13\n",
      "21\n",
      "34\n"
     ]
    }
   ],
   "source": [
    "fibonacci_number(10)"
   ]
  },
  {
   "cell_type": "markdown",
   "id": "e625c5f8-d2e7-4d8f-8db6-c9b71c9a34f8",
   "metadata": {},
   "source": [
    "-----------------------------------------------------------------------------------"
   ]
  },
  {
   "cell_type": "markdown",
   "id": "846fb92f-6a9d-44cd-ba9f-a1f5685e0ac4",
   "metadata": {},
   "source": [
    "## Q7. Write a List Comprehension to iterate through the given string: ‘pwskills’.Expected output: ['p', 'w', 's', 'k', 'i', 'l', 'l', 's'] "
   ]
  },
  {
   "cell_type": "code",
   "execution_count": 15,
   "id": "838ccd90-51fb-4b03-817c-c1383966c26b",
   "metadata": {},
   "outputs": [
    {
     "name": "stdout",
     "output_type": "stream",
     "text": [
      "['p', 'w', 's', 'k', 'i', 'l', 'l', 's']\n"
     ]
    }
   ],
   "source": [
    "s = \"pwskills\"\n",
    "result = [i for i in s]\n",
    "print(result)"
   ]
  },
  {
   "cell_type": "markdown",
   "id": "fdff83b6-39f3-470a-a09a-241b78d56f83",
   "metadata": {},
   "source": [
    "------------------------------------------------------------------------------------"
   ]
  },
  {
   "cell_type": "markdown",
   "id": "f0c10f59-6902-4dba-974f-3b743fbf9895",
   "metadata": {},
   "source": [
    "## Q8. Write a python program to check whether a given number is Palindrome or not using a while loop."
   ]
  },
  {
   "cell_type": "code",
   "execution_count": 16,
   "id": "9fccdade-34ba-46ad-a37e-c3702e6dc54f",
   "metadata": {},
   "outputs": [],
   "source": [
    "def num_palindrome(n):\n",
    "    rev = 0\n",
    "    temp = n\n",
    "    while temp > 0:\n",
    "        rem = temp%10\n",
    "        rev = rev*10+rem\n",
    "        temp = temp//10\n",
    "    \n",
    "    if n == rev:\n",
    "        print(n, \"is a palindrome\")\n",
    "    else:\n",
    "        print(n, \"is not a palindrome\")"
   ]
  },
  {
   "cell_type": "code",
   "execution_count": 17,
   "id": "21ee6943-8440-4510-a019-cf9a3bc1e3e3",
   "metadata": {},
   "outputs": [
    {
     "name": "stdout",
     "output_type": "stream",
     "text": [
      "1002 is not a palindrome\n"
     ]
    }
   ],
   "source": [
    "num_palindrome(1002)"
   ]
  },
  {
   "cell_type": "code",
   "execution_count": 18,
   "id": "69922289-b951-41a3-8a54-cde93ad3837a",
   "metadata": {},
   "outputs": [
    {
     "name": "stdout",
     "output_type": "stream",
     "text": [
      "1002001 is a palindrome\n"
     ]
    }
   ],
   "source": [
    "num_palindrome(1002001)"
   ]
  },
  {
   "cell_type": "markdown",
   "id": "bdbf4a28-1be1-4bb6-9a88-3acc18eb6cda",
   "metadata": {},
   "source": [
    "------------------------------------------------------------------------------------"
   ]
  },
  {
   "cell_type": "markdown",
   "id": "234f2f4d-011b-4cbd-bc95-c30cbc53f90e",
   "metadata": {},
   "source": [
    "## Q9. Write a code to print odd numbers from 1 to 100 using list comprehension."
   ]
  },
  {
   "cell_type": "code",
   "execution_count": 19,
   "id": "6d12707b-9921-4481-96a5-86fe145f4517",
   "metadata": {},
   "outputs": [],
   "source": [
    "l = [i for i in range(1,101)]\n",
    "odd_numbers = [i for i in l if i % 2 != 0]"
   ]
  },
  {
   "cell_type": "code",
   "execution_count": 20,
   "id": "ac26df0a-1bad-453f-884e-778af3484467",
   "metadata": {},
   "outputs": [
    {
     "data": {
      "text/plain": [
       "[1,\n",
       " 3,\n",
       " 5,\n",
       " 7,\n",
       " 9,\n",
       " 11,\n",
       " 13,\n",
       " 15,\n",
       " 17,\n",
       " 19,\n",
       " 21,\n",
       " 23,\n",
       " 25,\n",
       " 27,\n",
       " 29,\n",
       " 31,\n",
       " 33,\n",
       " 35,\n",
       " 37,\n",
       " 39,\n",
       " 41,\n",
       " 43,\n",
       " 45,\n",
       " 47,\n",
       " 49,\n",
       " 51,\n",
       " 53,\n",
       " 55,\n",
       " 57,\n",
       " 59,\n",
       " 61,\n",
       " 63,\n",
       " 65,\n",
       " 67,\n",
       " 69,\n",
       " 71,\n",
       " 73,\n",
       " 75,\n",
       " 77,\n",
       " 79,\n",
       " 81,\n",
       " 83,\n",
       " 85,\n",
       " 87,\n",
       " 89,\n",
       " 91,\n",
       " 93,\n",
       " 95,\n",
       " 97,\n",
       " 99]"
      ]
     },
     "execution_count": 20,
     "metadata": {},
     "output_type": "execute_result"
    }
   ],
   "source": [
    "odd_numbers"
   ]
  },
  {
   "cell_type": "code",
   "execution_count": null,
   "id": "ce54a5c8-298b-4ad5-a0c0-e6125fa03652",
   "metadata": {},
   "outputs": [],
   "source": []
  },
  {
   "cell_type": "code",
   "execution_count": null,
   "id": "e1fc83cb-0b8e-4e26-a470-b44bbe1470e0",
   "metadata": {},
   "outputs": [],
   "source": []
  }
 ],
 "metadata": {
  "kernelspec": {
   "display_name": "Python 3 (ipykernel)",
   "language": "python",
   "name": "python3"
  },
  "language_info": {
   "codemirror_mode": {
    "name": "ipython",
    "version": 3
   },
   "file_extension": ".py",
   "mimetype": "text/x-python",
   "name": "python",
   "nbconvert_exporter": "python",
   "pygments_lexer": "ipython3",
   "version": "3.10.8"
  }
 },
 "nbformat": 4,
 "nbformat_minor": 5
}
