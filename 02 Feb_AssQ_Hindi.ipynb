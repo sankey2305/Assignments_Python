{
 "cells": [
  {
   "cell_type": "markdown",
   "id": "bce6806b-a757-4f08-84fb-76094d52998d",
   "metadata": {},
   "source": [
    "## **Q1.  Explain with an example each when to use a for loop and a while loop**"
   ]
  },
  {
   "cell_type": "markdown",
   "id": "ff914c47-8eb6-4e53-8b0d-aeed5ee8b9fb",
   "metadata": {},
   "source": [
    "-> For Loop:\n",
    "        A for loop is used when you have a fixed-size data structure (like an array or list) and want to perform an operation on each element of the data structure."
   ]
  },
  {
   "cell_type": "code",
   "execution_count": 1,
   "id": "ec93f318-0d9c-4c9e-aa75-f60dd3cb18d3",
   "metadata": {},
   "outputs": [
    {
     "name": "stdout",
     "output_type": "stream",
     "text": [
      "1\n",
      "4\n",
      "9\n",
      "16\n",
      "25\n"
     ]
    }
   ],
   "source": [
    "l = [1,2,3,4,5]\n",
    "\n",
    "for i in l:\n",
    "    print(i**2)"
   ]
  },
  {
   "cell_type": "markdown",
   "id": "3a032fb8-ef5d-4972-b742-9fd9ed211c56",
   "metadata": {},
   "source": [
    "Here is an example of a for loop that iterates over a list of numbers and prints each number's square."
   ]
  },
  {
   "cell_type": "markdown",
   "id": "60a835cf-0144-4a81-9ebc-9d74c8c0a9d7",
   "metadata": {},
   "source": [
    "-> While Loop:A while loop is used when you want to repeat a block of code until a certain condition is met."
   ]
  },
  {
   "cell_type": "code",
   "execution_count": 2,
   "id": "4400311e-5a66-4ffa-95fe-d22cd37f3653",
   "metadata": {},
   "outputs": [
    {
     "name": "stdin",
     "output_type": "stream",
     "text": [
      "Enter a number between 1 and 10:  0\n",
      "Enter a number between 1 and 10:  -22\n",
      "Enter a number between 1 and 10:  11\n",
      "Enter a number between 1 and 10:  5\n"
     ]
    }
   ],
   "source": [
    "number = 0\n",
    "while number < 1 or number > 10:\n",
    "    number = int(input(\"Enter a number between 1 and 10: \"))\n"
   ]
  },
  {
   "cell_type": "markdown",
   "id": "24256419-271c-4b06-92b6-1e70e148f73e",
   "metadata": {},
   "source": [
    "Here is an example, Where while loop is checking whether user is giving a valid input or not. so basically its checking condition and then doing repeatating operation on it."
   ]
  },
  {
   "cell_type": "markdown",
   "id": "bc2f2bb8-1fd4-4b96-830d-b8a8306757c7",
   "metadata": {},
   "source": [
    "----------------------------------------------------------------------------------"
   ]
  },
  {
   "cell_type": "markdown",
   "id": "f6a5cdc6-d2f5-4799-b14a-dc06fb17f2ca",
   "metadata": {},
   "source": [
    "## **Q2.  Write a python program to print the sum and product of the first 10 natural numbers using for and while loop.**"
   ]
  },
  {
   "cell_type": "markdown",
   "id": "eed69ba5-789d-43d6-be3d-499045246779",
   "metadata": {},
   "source": [
    "### Using For loop:"
   ]
  },
  {
   "cell_type": "code",
   "execution_count": 3,
   "id": "ef839c49-12cb-4409-8b95-e4a4357d44c0",
   "metadata": {},
   "outputs": [
    {
     "name": "stdout",
     "output_type": "stream",
     "text": [
      "Sum of first 10 natural numbers are:55 and Product of first 10 natural numbers are:3628800\n"
     ]
    }
   ],
   "source": [
    "sum = 0\n",
    "product = 1\n",
    "for i in range(1,11):\n",
    "    sum += i\n",
    "    product *= i\n",
    "print(f\"Sum of first 10 natural numbers are:{sum} and Product of first 10 natural numbers are:{product}\")"
   ]
  },
  {
   "cell_type": "markdown",
   "id": "f14e2d25-48ff-4a6c-be83-e212ff1a9334",
   "metadata": {},
   "source": [
    "### Using While loop:"
   ]
  },
  {
   "cell_type": "code",
   "execution_count": 4,
   "id": "b9f76a29-a2ab-4112-b862-bac9c2a22012",
   "metadata": {},
   "outputs": [
    {
     "name": "stdout",
     "output_type": "stream",
     "text": [
      "Sum of first 10 natural numbers are:55 and Product of first 10 natural numbers are:3628800\n"
     ]
    }
   ],
   "source": [
    "sum = 0\n",
    "product = 1\n",
    "number = 1\n",
    "while number < 11:\n",
    "    sum += number\n",
    "    product *= number\n",
    "    number = number + 1\n",
    "print(f\"Sum of first 10 natural numbers are:{sum} and Product of first 10 natural numbers are:{product}\")\n",
    "    "
   ]
  },
  {
   "cell_type": "markdown",
   "id": "af27e661-100e-49c0-be99-3346aaa10a14",
   "metadata": {},
   "source": [
    "------------------------------------------------------------------------------------"
   ]
  },
  {
   "cell_type": "markdown",
   "id": "5895f180-c5ca-41ab-83dc-7c027534ded1",
   "metadata": {},
   "source": [
    "## **Q3. Create a python program to compute the electricity bill for a household.The per-unit charges in rupees are as follows: For the first 100 units, the user will be charged Rs. 4.5 per unit, for the next 100 units, the user will be charged Rs. 6 per unit, and for the next 100 units, the user will be charged Rs. 10 per unit, After 300 units and above the user will be charged Rs. 20 per unit.You are required to take the units of electricity consumed in a month from the user as input.Your program must pass this test case: when the unit of electricity consumed by the user in a month is 310, the total electricity bill should be 2250.**"
   ]
  },
  {
   "cell_type": "code",
   "execution_count": 6,
   "id": "e0ba9825-2e15-49bc-9534-eda8f00b00c0",
   "metadata": {},
   "outputs": [
    {
     "name": "stdin",
     "output_type": "stream",
     "text": [
      "Enter the units of electricity consumed in a month 310\n"
     ]
    },
    {
     "name": "stdout",
     "output_type": "stream",
     "text": [
      "The electricity bill for 310 units is: Rs. 2250.0\n"
     ]
    }
   ],
   "source": [
    "unit_input = int(input(\"Enter the units of electricity consumed in a month\"))\n",
    "electricity_bill = 0\n",
    "for i in range(1,unit_input+1):\n",
    "    if i < 101:\n",
    "        electricity_bill += 4.5\n",
    "    elif i < 201:\n",
    "        electricity_bill += 6\n",
    "    elif i < 301:\n",
    "        electricity_bill += 10\n",
    "    elif i > 300:\n",
    "        electricity_bill += 20\n",
    "print(f\"The electricity bill for {unit_input} units is: Rs. {electricity_bill}\") "
   ]
  },
  {
   "cell_type": "markdown",
   "id": "ee67fa89-53bc-42eb-bb62-7f0ceabf6897",
   "metadata": {},
   "source": [
    "------------------------------------------------------------------------------------"
   ]
  },
  {
   "cell_type": "markdown",
   "id": "f0c28640-122a-4d1e-9c49-a6306c91cd3b",
   "metadata": {},
   "source": [
    "## **Q4. Create a list of numbers from 1 to 100. Use for loop and while loop to calculate the cube of each number and if the cube of that number is divisible by 4 or 5 then append that number in a list and print that list.**"
   ]
  },
  {
   "cell_type": "code",
   "execution_count": 7,
   "id": "e8dbdf56-6a0f-45ef-b40c-d4400c422077",
   "metadata": {},
   "outputs": [],
   "source": [
    "list_numbers = list(range(1, 101))"
   ]
  },
  {
   "cell_type": "markdown",
   "id": "52c442bf-de59-4346-a602-57afa2be9088",
   "metadata": {},
   "source": [
    "### Using For Loops"
   ]
  },
  {
   "cell_type": "code",
   "execution_count": 8,
   "id": "468533b3-40d3-4aa7-b8d2-4be7efb7fc50",
   "metadata": {},
   "outputs": [
    {
     "name": "stdout",
     "output_type": "stream",
     "text": [
      "The numbers whose cubes are divisible by 4 or 5 are: [2, 4, 5, 6, 8, 10, 12, 14, 15, 16, 18, 20, 22, 24, 25, 26, 28, 30, 32, 34, 35, 36, 38, 40, 42, 44, 45, 46, 48, 50, 52, 54, 55, 56, 58, 60, 62, 64, 65, 66, 68, 70, 72, 74, 75, 76, 78, 80, 82, 84, 85, 86, 88, 90, 92, 94, 95, 96, 98, 100]\n"
     ]
    }
   ],
   "source": [
    "result_list_for = []\n",
    "for i in list_numbers:\n",
    "    cube = i**3\n",
    "    if cube%4 == 0 or cube%5 == 0:\n",
    "        result_list_for.append(i)\n",
    "print(\"The numbers whose cubes are divisible by 4 or 5 are:\", result_list_for)"
   ]
  },
  {
   "cell_type": "markdown",
   "id": "112d9696-1e23-4b67-855f-6711f3bab98c",
   "metadata": {},
   "source": [
    "###  Using While loops"
   ]
  },
  {
   "cell_type": "code",
   "execution_count": 9,
   "id": "4e75eebc-03ec-41d3-a944-724b7b04301f",
   "metadata": {},
   "outputs": [
    {
     "name": "stdout",
     "output_type": "stream",
     "text": [
      "The numbers whose cubes are divisible by 4 or 5 are: [2, 4, 5, 6, 8, 10, 12, 14, 15, 16, 18, 20, 22, 24, 25, 26, 28, 30, 32, 34, 35, 36, 38, 40, 42, 44, 45, 46, 48, 50, 52, 54, 55, 56, 58, 60, 62, 64, 65, 66, 68, 70, 72, 74, 75, 76, 78, 80, 82, 84, 85, 86, 88, 90, 92, 94, 95, 96, 98, 100]\n"
     ]
    }
   ],
   "source": [
    "result_list_while = []\n",
    "count = 1\n",
    "while count < len(list_numbers)+1:\n",
    "    cube = count**3\n",
    "    if cube % 4 == 0 or cube % 5 == 0:\n",
    "        result_list_while.append(count)\n",
    "    count = count + 1\n",
    "print(\"The numbers whose cubes are divisible by 4 or 5 are:\", result_list_while)"
   ]
  },
  {
   "cell_type": "markdown",
   "id": "da63a769-30f1-4688-a1a8-6c90eb859f9f",
   "metadata": {},
   "source": [
    "------------------------------------------------------------------------------------"
   ]
  },
  {
   "cell_type": "markdown",
   "id": "d5989d67-6715-4d2a-b5b5-1b78ad4a9628",
   "metadata": {},
   "source": [
    "## **Q5.  Write a program to filter count vowels in the below-given string.string = \"I want to become a data scientist**"
   ]
  },
  {
   "cell_type": "code",
   "execution_count": 10,
   "id": "223eac18-16c8-4e4e-ac3b-c9c8e725f615",
   "metadata": {},
   "outputs": [
    {
     "name": "stdout",
     "output_type": "stream",
     "text": [
      "The number of vowels in the string is: 12\n"
     ]
    }
   ],
   "source": [
    "S = \"I want to become a data scientist\"\n",
    "count = 0\n",
    "for i in S.lower():\n",
    "    if i in ['a','e','i','o','u']:\n",
    "        count += 1\n",
    "print(\"The number of vowels in the string is:\", count)"
   ]
  },
  {
   "cell_type": "code",
   "execution_count": null,
   "id": "54503025-10b7-4ed7-8b64-549f1a22110d",
   "metadata": {},
   "outputs": [],
   "source": []
  },
  {
   "cell_type": "code",
   "execution_count": null,
   "id": "a20bd363-9c83-4cf8-8272-623a0c7676dd",
   "metadata": {},
   "outputs": [],
   "source": []
  }
 ],
 "metadata": {
  "kernelspec": {
   "display_name": "Python 3 (ipykernel)",
   "language": "python",
   "name": "python3"
  },
  "language_info": {
   "codemirror_mode": {
    "name": "ipython",
    "version": 3
   },
   "file_extension": ".py",
   "mimetype": "text/x-python",
   "name": "python",
   "nbconvert_exporter": "python",
   "pygments_lexer": "ipython3",
   "version": "3.10.8"
  }
 },
 "nbformat": 4,
 "nbformat_minor": 5
}
